{
 "cells": [
  {
   "cell_type": "markdown",
   "metadata": {},
   "source": [
    "# Emerging Technologies\n",
    "## Tasks - Jupyter Notebook\n",
    "\n",
    "#### Ryan Harte (G00338424)"
   ]
  },
  {
   "cell_type": "markdown",
   "metadata": {},
   "source": [
    "---"
   ]
  },
  {
   "attachments": {},
   "cell_type": "markdown",
   "metadata": {},
   "source": [
    "## Table of Contents\n",
    "\n",
    "1. [Introduction](#intro)\n",
    "2. [Methodology](#method)\n",
    "3. [Results](#results)\n",
    "4. [Quantum Circuits/Logic Gates](#qiskit)"
   ]
  },
  {
   "cell_type": "markdown",
   "metadata": {},
   "source": []
  },
  {
   "cell_type": "markdown",
   "metadata": {},
   "source": [
    "<a id=\"intro\"></a>\n",
    "## Introduction\n",
    "\n",
    "This Jupyter Notebook contains the various tasks that have been researched as part of the Emerging Technologies module.\n",
    "\n",
    "<a id=\"task1\"></a>\n",
    "## The Collatz Conjecture\n",
    "The Collatz Conjecture is a mathematical puzzle that begins with any positive integer. It is one of the most famous unsolved problems in mathematics, primarily because of its simple formulation and complex behavior.\n",
    "\n",
    "#### The Collatz Conjecture Implementation\n",
    "1. Start with any positive integer __*n*__.\n",
    "2. If __*n*__ is even, divivde by 2: f(2/__*n*__).\n",
    "3. If __*n*__ is odd, multiply by 3 and add 1: f(3(__*n*__)+1)\n",
    "4. Take the result as the new __*n*__ and repeat steps 2 and 3 respectively.\n",
    "[*[1.0]*](#refcc)\n",
    "\n",
    "Now that we know how the Collatz Conjecture works we can begin discussing what it aims to prove.\n",
    "\n",
    "Overall, the Collatz Conjecture aims to assert that no matter what __*positive integer*__ a person starts using the above method with, that you will always end up with the same end result = 1. Once you take any positive integer and use the Collatz Conjecture formula, you will eventually end up with a result of 1 that then loops in the form of 1, 4, 2, 1, 4, 2, 1... and so on. \n",
    "\n",
    "While The Collatz Conjecture is easy to understand, many mathematicians have fallen \"under it's trance\". “This is a really dangerous problem. People become obsessed with it and it really is impossible,” said *Jeffrey Lagarias*, a mathematician at the University of Michigan and an expert on the Collatz conjecture. [*[1.1]*](#refjl) \n",
    "\n",
    "Unpredictable behaviour, exponential growth and a lack of counterexmamples make the Collatz Conjecture very hard to prove.\n",
    "1. Unpredictable behaviour: The sequences of numbers and results produced by the Collatz Conjecture is nothing short of erratic. Some numbers grow exponentially before shrinking again, others are very quick to hit the end result of 1. It is because of this, a pattern is hard to discern or even to begin forumlating a general method to prove the problem true\n",
    "2. Exponential Growth: As I stated above, some numbers grown exponentially as the odd number results have to follow the funtion f(3(__*n*__)+1). As a result some numbers become too hard to track even with computational methods and to predict this kind of explosive growth is a challenge.\n",
    "3. Computational methods have been used to test the conjecture for very large numbers, and it has always held true. While this doesn't prove the conjecture, it does give evidcence that if there is an exception, it's likely to be a very large number or a unique property that hasn't been discerned yet. This relates back to point 2 where some numbers become so large or hard to track.\n",
    "\n",
    "Earlier this year, a mathematician by the name *Terence Tao* posted proof [*[1.2]*](#refTT) that the The Collatz Conjecture is almost true for almost all numbers. While Terence Tao's results do not fully prove the mathematical problem, it is a major advancement on the topic."
   ]
  },
  {
   "cell_type": "markdown",
   "metadata": {},
   "source": [
    "#### The Collatz Conjeccture in python\n",
    "\n",
    "Below is verification that for the first 10,000 positive integers that the Collatz Conjecture is indeed true."
   ]
  },
  {
   "cell_type": "code",
   "execution_count": null,
   "metadata": {},
   "outputs": [
    {
     "name": "stdout",
     "output_type": "stream",
     "text": [
      "The Collatz Conjecture holds true for the first 10,000 positive integers.\n"
     ]
    }
   ],
   "source": [
    "def collatz_sequence(n):\n",
    "    # Keep looping until we reach the number 1.\n",
    "    while n != 1:\n",
    "        # If the number is even, divide by 2\n",
    "        if n % 2 == 0:\n",
    "            n = n // 2\n",
    "        else:\n",
    "            # If the number is odd, multiply it by 3 and add 1.\n",
    "            n = 3*n + 1\n",
    "    # If the loop finishes, we've successfully reached 1 and returns \"True\".\n",
    "    return True\n",
    "\n",
    "def verify_collatz_conjecture(limit):\n",
    "    # Loop through every number from 1 up to the limit.\n",
    "    for i in range(1, limit+1):\n",
    "        # For each number, generate its Collatz sequence.\n",
    "        # If any sequence doesn't reach 1, the function will return False.\n",
    "        if not collatz_sequence(i):\n",
    "            return False\n",
    "    # If all sequences reach 1, return True.\n",
    "    return True\n",
    "\n",
    "# Use the above function to verify the Collatz Conjecture for the first 10,000 integers.\n",
    "if verify_collatz_conjecture(10000):\n",
    "    print(\"The Collatz Conjecture holds true for the first 10,000 positive integers.\")\n",
    "else:\n",
    "    print(\"The Collatz Conjecture does not hold true for the first 10,000 positive integers.\")\n"
   ]
  },
  {
   "cell_type": "markdown",
   "metadata": {},
   "source": [
    "Below you can enter any positive integer to get the Collatz Sequence of that number and if it holds true."
   ]
  },
  {
   "cell_type": "code",
   "execution_count": 8,
   "metadata": {},
   "outputs": [
    {
     "name": "stdout",
     "output_type": "stream",
     "text": [
      "The number 3 is odd.\n",
      "The number 5 is odd.\n",
      "The number 5 is odd.\n",
      "The Collatz sequence for 22 is: [22, 11, 34, 17, 52, 26, 13, 40, 20, 10, 5, 16, 8, 4, 2, 1]\n",
      "\n",
      "The Collatz Conjecture does not hold true for the first 22 positive integers.\n"
     ]
    }
   ],
   "source": [
    "from IPython.display import display, clear_output\n",
    "\n",
    "def collatz_sequence(n):\n",
    "    \"\"\"Generate and return the Collatz sequence for a given number 'n'.\"\"\"\n",
    "    sequence = [n]\n",
    "    while n != 1:\n",
    "        if n % 2 == 0:\n",
    "            n = n // 2\n",
    "        else:\n",
    "            n = 3*n + 1\n",
    "        sequence.append(n)\n",
    "    return sequence\n",
    "\n",
    "def verify_collatz_conjecture(limit):\n",
    "    \"\"\"Verify the Collatz Conjecture up to a given limit.\"\"\"\n",
    "    for i in range(1, limit+1):\n",
    "        if len(collatz_sequence(i)) == 1:  # If only '1' is in the sequence, then it didn't work.\n",
    "            return False\n",
    "    return True\n",
    "\n",
    "# Get a number from the user.\n",
    "while True:\n",
    "    try:\n",
    "        num = int(input(\"Enter a positive integer: \"))\n",
    "        \n",
    "        # Check if the number is odd.\n",
    "        if num % 2 != 0:\n",
    "            print(f\"The number {num} is odd.\")\n",
    "            continue  # This will skip the rest of the loop and prompt the user again.\n",
    "        \n",
    "        # Ensure the input is positive.\n",
    "        if num <= 0:\n",
    "            print(\"Please enter a positive integer.\")\n",
    "            clear_output(wait=True)\n",
    "            continue\n",
    "        \n",
    "        # Print the Collatz sequence for the entered number.\n",
    "        sequence = collatz_sequence(num)\n",
    "        print(f\"The Collatz sequence for {num} is: {sequence}\")\n",
    "        \n",
    "        # Verify the Collatz Conjecture up to the entered number.\n",
    "        if verify_collatz_conjecture(num):\n",
    "            print(f\"\\nThe Collatz Conjecture holds true for the first {num} positive integers.\")\n",
    "        else:\n",
    "            print(f\"\\nThe Collatz Conjecture does not hold true for the first {num} positive integers.\")\n",
    "        break\n",
    "    except ValueError:\n",
    "        print(\"Please enter a valid positive integer.\")\n",
    "        clear_output(wait=True)\n"
   ]
  },
  {
   "cell_type": "markdown",
   "metadata": {},
   "source": [
    "<a id=\"qiskit\"></a>\n",
    "## Quantum Circuits/Logic Gates"
   ]
  },
  {
   "cell_type": "markdown",
   "metadata": {},
   "source": []
  },
  {
   "cell_type": "code",
   "execution_count": null,
   "metadata": {},
   "outputs": [
    {
     "data": {
      "image/png": "[encoded data removed]",
      "text/plain": [
       "<Figure size 287.294x200.667 with 1 Axes>"
      ]
     },
     "execution_count": 9,
     "metadata": {},
     "output_type": "execute_result"
    }
   ],
   "source": [
    "from qiskit import QuantumCircuit, Aer, transpile, execute\n",
    "from qiskit.visualization import plot_histogram\n",
    "\n",
    "# Create a quantum circuit with 2 qubits\n",
    "qc = QuantumCircuit(2)\n",
    "\n",
    "# Apply a Hadamard gate to the first qubit\n",
    "qc.h(0)\n",
    "\n",
    "# Apply a CNOT gate with the first qubit as control and the second as the target\n",
    "qc.cx(0, 1)\n",
    "\n",
    "# Draw the circuit\n",
    "qc.draw('mpl')"
   ]
  },
  {
   "cell_type": "code",
   "execution_count": null,
   "metadata": {},
   "outputs": [
    {
     "name": "stdout",
     "output_type": "stream",
     "text": [
      "\n",
      "Total count for 00 and 11 are: {'00': 533, '11': 467}\n"
     ]
    },
    {
     "data": {
      "image/png": "[encoded data removed]",
      "text/plain": [
       "<Figure size 454.517x284.278 with 1 Axes>"
      ]
     },
     "execution_count": 10,
     "metadata": {},
     "output_type": "execute_result"
    }
   ],
   "source": [
    "from qiskit import QuantumCircuit, transpile\n",
    "from qiskit_aer import AerSimulator\n",
    "from qiskit.visualization import plot_histogram\n",
    "\n",
    "# Use Aer's AerSimulator\n",
    "simulator = AerSimulator()\n",
    "\n",
    "# Create a Quantum Circuit acting on the q register\n",
    "circuit = QuantumCircuit(2, 2)\n",
    "\n",
    "# Add a H gate on qubit 0\n",
    "circuit.h(0)\n",
    "\n",
    "# Add a CX (CNOT) gate on control qubit 0 and target qubit 1\n",
    "circuit.cx(0, 1)\n",
    "\n",
    "# Map the quantum measurement to the classical bits\n",
    "circuit.measure([0, 1], [0, 1])\n",
    "\n",
    "# Compile the circuit for the support instruction set (basis_gates)\n",
    "# and topology (coupling_map) of the backend\n",
    "compiled_circuit = transpile(circuit, simulator)\n",
    "\n",
    "# Execute the circuit on the aer simulator\n",
    "job = simulator.run(compiled_circuit, shots=1000)\n",
    "\n",
    "# Grab results from the job\n",
    "result = job.result()\n",
    "\n",
    "# Returns counts\n",
    "counts = result.get_counts(compiled_circuit)\n",
    "print(\"\\nTotal count for 00 and 11 are:\", counts)\n",
    "\n",
    "# Draw the circuit\n",
    "circuit.draw(\"mpl\")"
   ]
  },
  {
   "cell_type": "code",
   "execution_count": null,
   "metadata": {},
   "outputs": [
    {
     "data": {
      "image/png": "[encoded data removed]",
      "text/plain": [
       "<Figure size 700x500 with 1 Axes>"
      ]
     },
     "execution_count": 11,
     "metadata": {},
     "output_type": "execute_result"
    }
   ],
   "source": [
    "# Plot a histogram\n",
    "plot_histogram(counts)"
   ]
  },
  {
   "cell_type": "code",
   "execution_count": null,
   "metadata": {},
   "outputs": [
    {
     "name": "stdout",
     "output_type": "stream",
     "text": [
      "\n",
      "Total count for 00 and 11 are: {'00': 492, '11': 508}\n"
     ]
    }
   ],
   "source": [
    "from qiskit import QuantumCircuit, transpile\n",
    "from qiskit.providers.basicaer import QasmSimulatorPy\n",
    "\n",
    "simulator = AerSimulator()\n",
    "compiled_circuit = transpile(circuit, simulator)\n",
    "job = simulator.run(compiled_circuit, shots=1000)\n",
    "result = job.result()\n",
    "counts = result.get_counts(circuit)\n",
    "print(\"\\nTotal count for 00 and 11 are:\",counts)"
   ]
  },
  {
   "cell_type": "markdown",
   "metadata": {},
   "source": [
    "## References and Citations\n",
    "<a id=\"refcc\"></a>\n",
    "*[1.0]* - Rana, Ajay Singh. \"Implementing 3x1 in Python.\" HackerNoon, 2023\n",
    "\n",
    "https://hackernoon.com/implementing-3x1-in-python.\n",
    "\n",
    "\n",
    "<a id=\"refjl\"></a>\n",
    "*[1.1]* - Hartnett, Kevin. \"Mathematician Proves Huge Result on 'Dangerous Problem'.\" Quanta Magazine, 11 Dec. 2019\n",
    "\n",
    "https://www.quantamagazine.org/mathematician-proves-huge-result-on-dangerous-problem-20191211/.\n",
    "\n",
    "\n",
    "<a id=\"reftt\"></a>\n",
    "*[1.2]* - Tao, Terence. \"Almost all orbits of the Collatz map attain almost bounded values.\" arXiv, 15 February 2022 \n",
    "\n",
    "https://arxiv.org/abs/1909.03562."
   ]
  },
  {
   "cell_type": "markdown",
   "metadata": {},
   "source": []
  }
 ],
 "metadata": {
  "kernelspec": {
   "display_name": "base",
   "language": "python",
   "name": "python3"
  },
  "language_info": {
   "codemirror_mode": {
    "name": "ipython",
    "version": 3
   },
   "file_extension": ".py",
   "mimetype": "text/x-python",
   "name": "python",
   "nbconvert_exporter": "python",
   "pygments_lexer": "ipython3",
   "version": "3.10.7"
  },
  "orig_nbformat": 4
 },
 "nbformat": 4,
 "nbformat_minor": 2
}
