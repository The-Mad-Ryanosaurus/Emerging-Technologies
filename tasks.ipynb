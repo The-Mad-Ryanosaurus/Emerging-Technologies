{
 "cells": [
  {
   "attachments": {},
   "cell_type": "markdown",
   "metadata": {},
   "source": [
    "## Table of Contents\n",
    "\n",
    "1. [Introduction](#intro)\n",
    "2. [Methodology](#method)\n",
    "3. [Results](#results)"
   ]
  },
  {
   "cell_type": "markdown",
   "metadata": {},
   "source": [
    "<a id=\"intro\"></a>\n",
    "## Introduction\n",
    "This is the introduction.\n",
    "\n",
    "<a id=\"method\"></a>\n",
    "## Methodology\n",
    "Here we describe the methods.\n",
    "\n",
    "<a id=\"results\"></a>\n",
    "## Results\n",
    "This section contains results."
   ]
  }
 ],
 "metadata": {
  "language_info": {
   "name": "python"
  },
  "orig_nbformat": 4
 },
 "nbformat": 4,
 "nbformat_minor": 2
}
