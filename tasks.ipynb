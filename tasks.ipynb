{
 "cells": [
  {
   "cell_type": "markdown",
   "metadata": {},
   "source": [
    "# **Tasks Notebook**\n",
    "### Emerging Technologies\n",
    "---\n",
    "#### Ryan Harte (G00338424)\n",
    "---"
   ]
  },
  {
   "attachments": {},
   "cell_type": "markdown",
   "metadata": {},
   "source": [
    "## **Table of Contents**\n",
    "\n",
    "1. [Introduction](#intro)\n",
    "2. [The Collataz Conjecture - (Task 1)](#collatzconjecture)\n",
    "3. [Square Root in Python: Newtons Method - (Task 2)](#squareroot)\n",
    "4. [Random Function Selection - (Task 3)](#rfunction)\n",
    "5. [Matrix Multiplication - (Task 4)](#matrixmultiplication)\n",
    "6. [Quantum Circuits/Logic Gates](#qiskit)\n",
    "7. [References](#refcc)"
   ]
  },
  {
   "cell_type": "markdown",
   "metadata": {},
   "source": [
    "<a id=\"intro\"></a>\n",
    "## **Introduction**\n",
    "\n",
    "This Jupyter Notebook contains the various tasks that have been researched as part of the Emerging Technologies module."
   ]
  },
  {
   "cell_type": "markdown",
   "metadata": {},
   "source": [
    "<a id=\"collatzconjecture\"></a>\n",
    "## **The Collatz Conjecture - Task 1**\n",
    "The Collatz Conjecture is a mathematical puzzle that begins with any positive integer. It is one of the most famous unsolved problems in mathematics, primarily because of its simple formulation and complex behavior.\n",
    "\n",
    "#### **The Collatz Conjecture Implementation**\n",
    "1. Start with any positive integer __*n*__.\n",
    "2. If __*n*__ is even, divivde by 2: f(2/__*n*__).\n",
    "3. If __*n*__ is odd, multiply by 3 and add 1: f(3(__*n*__)+1)\n",
    "4. Take the result as the new __*n*__ and repeat steps 2 and 3 respectively.\n",
    "[*[1.0]*](#refcc)\n",
    "\n",
    "Now that we know how the Collatz Conjecture works we can begin discussing what it aims to prove.\n",
    "\n",
    "Overall, the Collatz Conjecture aims to assert that no matter what __*positive integer*__ a person starts using the above method with, that you will always end up with the same end result = 1. Once you take any positive integer and use the Collatz Conjecture formula, you will eventually end up with a result of 1 that then loops in the form of 1, 4, 2, 1, 4, 2, 1... and so on. \n",
    "\n",
    "While The Collatz Conjecture is easy to understand, many mathematicians have fallen \"under it's trance\". “This is a really dangerous problem. People become obsessed with it and it really is impossible,” said *Jeffrey Lagarias*, a mathematician at the University of Michigan and an expert on the Collatz conjecture. [*[1.1]*](#refjl) \n",
    "\n",
    "Unpredictable behaviour, exponential growth and a lack of counterexmamples make the Collatz Conjecture very hard to prove.\n",
    "1. Unpredictable behaviour: The sequences of numbers and results produced by the Collatz Conjecture is nothing short of erratic. Some numbers grow exponentially before shrinking again, others are very quick to hit the end result of 1. It is because of this, a pattern is hard to discern or even to begin forumlating a general method to prove the problem true\n",
    "2. Exponential Growth: As I stated above, some numbers grown exponentially as the odd number results have to follow the funtion f(3(__*n*__)+1). As a result some numbers become too hard to track even with computational methods and to predict this kind of explosive growth is a challenge.\n",
    "3. Computational methods have been used to test the conjecture for very large numbers, and it has always held true. While this doesn't prove the conjecture, it does give evidcence that if there is an exception, it's likely to be a very large number or a unique property that hasn't been discerned yet. This relates back to point 2 where some numbers become so large or hard to track.\n",
    "\n",
    "Earlier this year, a mathematician by the name *Terence Tao* posted proof that the The Collatz Conjecture is almost true for almost all numbers [*[1.2]*](#refTT).  While Terence Tao's results do not fully prove the mathematical problem, it is a major advancement on the topic."
   ]
  },
  {
   "cell_type": "markdown",
   "metadata": {},
   "source": [
    "#### **The Collatz Conjeccture in python**\n",
    "\n",
    "Below is verification that for the first 10,000 positive integers that the Collatz Conjecture is indeed true."
   ]
  },
  {
   "cell_type": "code",
   "execution_count": 3,
   "metadata": {},
   "outputs": [
    {
     "name": "stdout",
     "output_type": "stream",
     "text": [
      "The Collatz Conjecture holds true for the first 10,000 positive integers.\n"
     ]
    }
   ],
   "source": [
    "def collatz_sequence(n):\n",
    "    # Keep looping until we reach the number 1.\n",
    "    while n != 1:\n",
    "        # If the number is even, divide by 2\n",
    "        if n % 2 == 0:\n",
    "            n = n // 2\n",
    "        else:\n",
    "            # If the number is odd, multiply it by 3 and add 1.\n",
    "            n = 3*n + 1\n",
    "    # If the loop finishes, we've successfully reached 1 and returns \"True\".\n",
    "    return True\n",
    "\n",
    "def verify_collatz_conjecture(limit):\n",
    "    # Loop through every number from 1 up to the limit.\n",
    "    for i in range(1, limit+1):\n",
    "        # For each number, generate its Collatz sequence.\n",
    "        # If any sequence doesn't reach 1, the function will return False.\n",
    "        if not collatz_sequence(i):\n",
    "            return False\n",
    "    # If all sequences reach 1, return True.\n",
    "    return True\n",
    "\n",
    "# Use the above function to verify the Collatz Conjecture for the first 10,000 integers.\n",
    "if verify_collatz_conjecture(10000):\n",
    "    print(\"The Collatz Conjecture holds true for the first 10,000 positive integers.\")\n",
    "else:\n",
    "    print(\"The Collatz Conjecture does not hold true for the first 10,000 positive integers.\")\n"
   ]
  },
  {
   "cell_type": "markdown",
   "metadata": {},
   "source": [
    "Below you can enter any positive integer to get the Collatz Sequence of that number and if it holds true."
   ]
  },
  {
   "cell_type": "code",
   "execution_count": 4,
   "metadata": {},
   "outputs": [
    {
     "name": "stdout",
     "output_type": "stream",
     "text": [
      "The Collatz sequence for 2 is: [2, 1]\n",
      "\n",
      "The Collatz Conjecture does not hold true for the first 2 positive integers.\n"
     ]
    }
   ],
   "source": [
    "from IPython.display import display, clear_output\n",
    "\n",
    "def collatz_sequence(n):\n",
    "    \"\"\"Generate and return the Collatz sequence for a given number 'n'.\"\"\"\n",
    "    sequence = [n]\n",
    "    while n != 1:\n",
    "        if n % 2 == 0:\n",
    "            n = n // 2\n",
    "        else:\n",
    "            n = 3*n + 1\n",
    "        sequence.append(n)\n",
    "    return sequence\n",
    "\n",
    "def verify_collatz_conjecture(limit):\n",
    "    \"\"\"Verify the Collatz Conjecture up to a given limit.\"\"\"\n",
    "    for i in range(1, limit+1):\n",
    "        if len(collatz_sequence(i)) == 1:  # If only '1' is in the sequence, then it didn't work.\n",
    "            return False\n",
    "    return True\n",
    "\n",
    "# Get a number from the user.\n",
    "while True:\n",
    "    try:\n",
    "        num = int(input(\"Enter a positive integer: \"))\n",
    "        \n",
    "        # Check if the number is odd.\n",
    "        if num % 2 != 0:\n",
    "            print(f\"The number {num} is odd.\")\n",
    "            continue  # This will skip the rest of the loop and prompt the user again.\n",
    "        \n",
    "        # Ensure the input is positive.\n",
    "        if num <= 0:\n",
    "            print(\"Please enter a positive integer.\")\n",
    "            clear_output(wait=True)\n",
    "            continue\n",
    "        \n",
    "        # Print the Collatz sequence for the entered number.\n",
    "        sequence = collatz_sequence(num)\n",
    "        print(f\"The Collatz sequence for {num} is: {sequence}\")\n",
    "        \n",
    "        # Verify the Collatz Conjecture up to the entered number.\n",
    "        if verify_collatz_conjecture(num):\n",
    "            print(f\"\\nThe Collatz Conjecture holds true for the first {num} positive integers.\")\n",
    "        else:\n",
    "            print(f\"\\nThe Collatz Conjecture does not hold true for the first {num} positive integers.\")\n",
    "        break\n",
    "    except ValueError:\n",
    "        print(\"Please enter a valid positive integer.\")\n",
    "        clear_output(wait=True)\n"
   ]
  },
  {
   "cell_type": "markdown",
   "metadata": {},
   "source": [
    "<a id=\"squareroot\"></a>\n",
    "## **Square Root in Python: Newtons Method - Task 2**"
   ]
  },
  {
   "cell_type": "code",
   "execution_count": 5,
   "metadata": {},
   "outputs": [
    {
     "name": "stdout",
     "output_type": "stream",
     "text": [
      "Approximate square root of 2.0 is 1.4166666666666667\n"
     ]
    }
   ],
   "source": [
    "def sqrt(x):\n",
    "    # Start with an initial guess\n",
    "    z = x / 2.0\n",
    "    \n",
    "    # Keep iterating until the difference between two consecutive guesses is below the threshold\n",
    "    while abs(x - z * z) > 0.01:\n",
    "        z = z - (z * z - x) / (2 * z)\n",
    "    \n",
    "    return z\n",
    "\n",
    "# Test the function\n",
    "number = float(input(\"Enter a number to find its square root: \"))\n",
    "print(f\"Approximate square root of {number} is {sqrt(number)}\")"
   ]
  },
  {
   "cell_type": "markdown",
   "metadata": {},
   "source": [
    "<a id=\"rfunction\"></a>\n",
    "## **Random Function Selection - Task 3**\n",
    "\n",
    "Here we are exploring the number of unique functions that can be created with 'four bits' as our input, that then outputs a single bit as our result. Since each bit produced has only two possibilities (0 or 1) and we know the inputs are four bits, we can conclude 2<sup>4</sup>=16 possible input combinations for the functions.\n",
    "For each of those input combinations there can be a result of 0 or 1 (as previously mentioned). This means that there are 2<sup>16</sup>=65,536 possible function results for the algorithm to produce. All in all out of 65,536 results, this algorithm will produce 2<sup>4</sup>=16 possible input combinations out of the total 65,536 each time, at random.\n",
    "\n"
   ]
  },
  {
   "cell_type": "code",
   "execution_count": 6,
   "metadata": {},
   "outputs": [
    {
     "data": {
      "text/plain": [
       "[0, 1, 0, 1, 1, 0, 0, 1]"
      ]
     },
     "execution_count": 6,
     "metadata": {},
     "output_type": "execute_result"
    }
   ],
   "source": [
    "import random\n",
    "import itertools as it\n",
    "\n",
    "def create_f():\n",
    "    outputs = [random.choice([0,1])for i in  range (16)]\n",
    "    def f(x1, x2, x3, x4):\n",
    "        i = x1 * 2**3  + x2 * 2**2 + x3 * 2**1 + x4 * 2**0\n",
    "        return outputs [i]\n",
    "    return f\n",
    "\n",
    "my_f = create_f()\n",
    "\n",
    "my_f (0,0,0,0)\n",
    "\n",
    "[random.choice([0,1])for i in  range (8)]\n"
   ]
  },
  {
   "cell_type": "code",
   "execution_count": 7,
   "metadata": {},
   "outputs": [
    {
     "name": "stdout",
     "output_type": "stream",
     "text": [
      "(0, 0, 0, 0) -> 0\n",
      "(0, 0, 0, 1) -> 1\n",
      "(0, 0, 1, 0) -> 0\n",
      "(0, 0, 1, 1) -> 0\n",
      "(0, 1, 0, 0) -> 1\n",
      "(0, 1, 0, 1) -> 1\n",
      "(0, 1, 1, 0) -> 0\n",
      "(0, 1, 1, 1) -> 0\n",
      "(1, 0, 0, 0) -> 0\n",
      "(1, 0, 0, 1) -> 1\n",
      "(1, 0, 1, 0) -> 0\n",
      "(1, 0, 1, 1) -> 0\n",
      "(1, 1, 0, 0) -> 0\n",
      "(1, 1, 0, 1) -> 1\n",
      "(1, 1, 1, 0) -> 0\n",
      "(1, 1, 1, 1) -> 1\n"
     ]
    }
   ],
   "source": [
    "list(it.product([0,1], repeat=4))\n",
    "\n",
    "for inputs in it.product([0,1], repeat=4):\n",
    "    print(f\"{inputs} -> {my_f(*inputs)}\")"
   ]
  },
  {
   "cell_type": "markdown",
   "metadata": {},
   "source": [
    "<a id=\"matrixmultiplication\"></a>\n",
    "## **Matrix Multiplication - Task 4**\n",
    "\n",
    "This function takes two matrices A and B as input. It first checks if the matrices are of compatible dimensions (same size rows and columns). If they are, it initializes a result matrix filled with zeros and then iterates through each element, calculating the dot product of rows of A with columns of B.\n",
    "\n",
    "The dot product [*[4.0]*](#dotp) is a way of multiplying two arrays (or vectors) to get a single number (scalar). In the context of matrix multiplication, the dot product is used to multiply the corresponding elements of a row of one matrix with a column of another and then summing these products together.\n",
    "\n",
    "#### **Matrix Multiplication in python**\n",
    "[*[4.1]*](#matrixcode)"
   ]
  },
  {
   "cell_type": "code",
   "execution_count": 8,
   "metadata": {},
   "outputs": [
    {
     "name": "stdout",
     "output_type": "stream",
     "text": [
      "[[ 58.  64.]\n",
      " [139. 154.]]\n"
     ]
    }
   ],
   "source": [
    "import numpy as np\n",
    "\n",
    "array1 = np.array([[1.0, 2.0, 3.0], [4.0, 5.0, 6.0]])  # 2x3 matrix \n",
    "array2 = np.array([[7.0, 8.0], [9.0, 10.0], [11.0, 12.0]])  # 3x2 matrix \n",
    "\n",
    "# Multiply the matrices using np.matmul()\n",
    "product = np.matmul(array1, array2)\n",
    "\n",
    "print(product)"
   ]
  },
  {
   "cell_type": "code",
   "execution_count": 9,
   "metadata": {},
   "outputs": [
    {
     "name": "stdout",
     "output_type": "stream",
     "text": [
      "Resulting matrix:\n",
      "[[ 58.  64.]\n",
      " [139. 154.]]\n",
      "\n",
      "Calculation steps:\n",
      "(1.0*7.0 + 2.0*9.0 + 3.0*11.0) = 58.0 | (1.0*8.0 + 2.0*10.0 + 3.0*12.0) = 64.0\n",
      "(4.0*7.0 + 5.0*9.0 + 6.0*11.0) = 139.0 | (4.0*8.0 + 5.0*10.0 + 6.0*12.0) = 154.0\n"
     ]
    }
   ],
   "source": [
    "import numpy as np\n",
    "\n",
    "array1 = np.array([[1.0, 2.0, 3.0], [4.0, 5.0, 6.0]])  # 2x3 matrix \n",
    "array2 = np.array([[7.0, 8.0], [9.0, 10.0], [11.0, 12.0]])  # 3x2 matrix\n",
    "\n",
    "# Store the multiplication steps as strings for display -> eg. 1.0*7.0 etc\n",
    "calculation_steps_matrix = []\n",
    "\n",
    "# Iterate through each cell of the result and calculate the result manually\n",
    "# Loop through rows of array1 and columns of array2\n",
    "for i in range(array1.shape[0]):\n",
    "    row_steps = []  # Store calculation steps for each row\n",
    "\n",
    "    for j in range(array2.shape[1]):\n",
    "        calculation_steps = []  # Store multiplication steps for each element\n",
    "        sum_result = 0.0  # Initialize sum for the current element\n",
    "\n",
    "        # Calculate dot product for the element\n",
    "        for k in range(array1.shape[1]):\n",
    "            multiplication = array1[i, k] * array2[k, j]  # Multiply elements\n",
    "            sum_result += multiplication  # Add to the sum\n",
    "            calculation_steps.append(f\"{array1[i, k]}*{array2[k, j]}\")  # Record step\n",
    "\n",
    "        # Combine all steps into a single string\n",
    "        row_steps.append(f\"({' + '.join(calculation_steps)}) = {sum_result}\")\n",
    "\n",
    "    # Add the row's calculations to the overall list\n",
    "    calculation_steps_matrix.append(row_steps)\n",
    "\n",
    "# Multiply the matrices using np.matmul() -> just like before\n",
    "product = np.matmul(array1, array2)\n",
    "\n",
    "# Print the result and the calculation steps\n",
    "print(\"Resulting matrix:\")\n",
    "print(product)\n",
    "print(\"\\nCalculation steps:\")\n",
    "for row in calculation_steps_matrix:\n",
    "    print(\" | \".join(row))"
   ]
  },
  {
   "cell_type": "markdown",
   "metadata": {},
   "source": [
    "<a id=\"qiskit\"></a>\n",
    "## **Quantum Circuits/Logic Gates**"
   ]
  },
  {
   "cell_type": "code",
   "execution_count": 10,
   "metadata": {},
   "outputs": [
    {
     "name": "stdout",
     "output_type": "stream",
     "text": [
      "\n",
      "Total count for 00 and 11 are: {'11': 487, '00': 513}\n"
     ]
    },
    {
     "data": {
      "image/png": "[encoded data removed]",
      "text/plain": [
       "<Figure size 454.517x284.278 with 1 Axes>"
      ]
     },
     "execution_count": 10,
     "metadata": {},
     "output_type": "execute_result"
    }
   ],
   "source": [
    "from qiskit import QuantumCircuit, transpile\n",
    "from qiskit_aer import AerSimulator\n",
    "from qiskit.visualization import plot_histogram\n",
    "\n",
    "# Use Aer's AerSimulator\n",
    "simulator = AerSimulator()\n",
    "\n",
    "# Create a Quantum Circuit acting on the q register\n",
    "circuit = QuantumCircuit(2, 2)\n",
    "\n",
    "# Add a H gate on qubit 0\n",
    "circuit.h(0)\n",
    "\n",
    "# Add a CX (CNOT) gate on control qubit 0 and target qubit 1\n",
    "circuit.cx(0, 1)\n",
    "\n",
    "# Map the quantum measurement to the classical bits\n",
    "circuit.measure([0, 1], [0, 1])\n",
    "\n",
    "# Compile the circuit for the support instruction set (basis_gates)\n",
    "# and topology (coupling_map) of the backend\n",
    "compiled_circuit = transpile(circuit, simulator)\n",
    "\n",
    "# Execute the circuit on the aer simulator\n",
    "job = simulator.run(compiled_circuit, shots=1000)\n",
    "\n",
    "# Grab results from the job\n",
    "result = job.result()\n",
    "\n",
    "# Returns counts\n",
    "counts = result.get_counts(compiled_circuit)\n",
    "print(\"\\nTotal count for 00 and 11 are:\", counts)\n",
    "\n",
    "# Draw the circuit\n",
    "circuit.draw(\"mpl\")"
   ]
  },
  {
   "cell_type": "code",
   "execution_count": 11,
   "metadata": {},
   "outputs": [
    {
     "data": {
      "image/png": "[encoded data removed]",
      "text/plain": [
       "<Figure size 700x500 with 1 Axes>"
      ]
     },
     "execution_count": 11,
     "metadata": {},
     "output_type": "execute_result"
    }
   ],
   "source": [
    "# Plot a histogram\n",
    "plot_histogram(counts)"
   ]
  },
  {
   "cell_type": "code",
   "execution_count": 12,
   "metadata": {},
   "outputs": [
    {
     "name": "stdout",
     "output_type": "stream",
     "text": [
      "\n",
      "Total count for 00 and 11 are: {'11': 462, '00': 538}\n"
     ]
    }
   ],
   "source": [
    "from qiskit import QuantumCircuit, transpile\n",
    "from qiskit.providers.basicaer import QasmSimulatorPy\n",
    "\n",
    "simulator = AerSimulator()\n",
    "compiled_circuit = transpile(circuit, simulator)\n",
    "job = simulator.run(compiled_circuit, shots=1000)\n",
    "result = job.result()\n",
    "counts = result.get_counts(circuit)\n",
    "print(\"\\nTotal count for 00 and 11 are:\",counts)"
   ]
  },
  {
   "cell_type": "markdown",
   "metadata": {},
   "source": [
    "<a id=\"refcc\"></a>\n",
    "## **References**\n",
    "\n",
    "*[1.0]* - Rana, Ajay Singh. \"Implementing 3x1 in Python.\" HackerNoon, 2023\n",
    "\n",
    "https://hackernoon.com/implementing-3x1-in-python.\n",
    "\n",
    "\n",
    "<a id=\"refjl\"></a>\n",
    "*[1.1]* - Hartnett, Kevin. \"Mathematician Proves Huge Result on 'Dangerous Problem'.\" Quanta Magazine, 11 Dec. 2019\n",
    "\n",
    "https://www.quantamagazine.org/mathematician-proves-huge-result-on-dangerous-problem-20191211/.\n",
    "\n",
    "\n",
    "<a id=\"reftt\"></a>\n",
    "*[1.2]* - Tao, Terence. \"Almost all orbits of the Collatz map attain almost bounded values.\" arXiv, 15 February 2022 \n",
    "\n",
    "https://arxiv.org/abs/1909.03562.\n",
    "\n",
    "\n",
    "<a id=\"dotp\"></a>\n",
    "*[4.0]* - Sheldon, Robert. \"What is dot product (scalar product)?\" TechTarget, Oct. 2022\n",
    "\n",
    "https://www.techtarget.com/whatis/definition/dot-product-scalar-product#:~:text=The%20dot%20product%2C%20also%20called,one%20or%20both%20of%20them.\n",
    "\n",
    "\n",
    "<a id=\"matrixcode\"></a>\n",
    "*[4.1]* - Python for Data Science, \"How to perform Matrix Multiplication with Numpy Python\" Board Infinity\n",
    "\n",
    "https://www.boardinfinity.com/blog/how-to-perform-matrix-multiplication-with-numpy-python/#:~:text=In%20order%20to%20determine%20the,the%20inputs%20board_arr1%20and%20board_arr2."
   ]
  },
  {
   "cell_type": "markdown",
   "metadata": {},
   "source": []
  }
 ],
 "metadata": {
  "kernelspec": {
   "display_name": "base",
   "language": "python",
   "name": "python3"
  },
  "language_info": {
   "codemirror_mode": {
    "name": "ipython",
    "version": 3
   },
   "file_extension": ".py",
   "mimetype": "text/x-python",
   "name": "python",
   "nbconvert_exporter": "python",
   "pygments_lexer": "ipython3",
   "version": "3.10.7"
  },
  "orig_nbformat": 4
 },
 "nbformat": 4,
 "nbformat_minor": 2
}
