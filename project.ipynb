{
 "cells": [
  {
   "cell_type": "markdown",
   "metadata": {},
   "source": [
    "# **Quantum Computing and The Deutsch’s Algorithm**\n",
    "### Emerging Technologies\n",
    "---\n",
    "\n",
    "##### Ryan Harte (G00338424)\n",
    "---"
   ]
  },
  {
   "cell_type": "markdown",
   "metadata": {},
   "source": [
    "## **Table of Contents**\n",
    "\n",
    "1. [Introduction](#intro)  \n",
    "   - [Classical Computation](#clcomp)\n",
    "   - [Quantum Computation](#quantum-computation)\n",
    "2. [Importance of Quantum Algorithms](#importance-of-quantum-algorithms)\n",
    "3. [Overview of Deutsch's Algorithm](#overview-of-deutschs-algorithm)\n",
    "4. [Quantum Oracles](#quantum-oracles)\n",
    "   - [Quantum Oracle Example](#quantum-oracle-example)\n",
    "   - [Classical Computing Example](#classical-ex)\n",
    "5. [Quantum Computing with Oracles](#quantum-w-oracles)\n",
    "   - [Key Features of Quantum Oracles](#qofeatures)\n",
    "6. [The Black Box](#TheBlackBox)\n",
    "   - [Key Features of a Black Box](#KeyFeaturesofaBlackBox)\n",
    "   - [Black Box vs Oracles](#BlackBoxvsOracles)\n",
    "7. [The Black Box Problem](#TheBlackBoxProblem)\n",
    "   - [Black Box Relevance](#BlackBoxRelevance)\n",
    "8. [Deutsch's Algorithm](#da)\n",
    "9. [References](#refcc)\n",
    "\n",
    "\n",
    "\n"
   ]
  },
  {
   "cell_type": "markdown",
   "metadata": {},
   "source": [
    "<a id=\"intro\"></a>\n",
    "## **Introduction**\n",
    "\n",
    "In this Jupyter Notebook, we will delve into the basics of quantum computation, a cutting-edge field that leverages the principles of quantum mechanics to process information in ways that are fundamentally different from classical computing.\n",
    "\n",
    "Quantum computing is built on the foundation of qubits, superposition, and entanglement, offering potentially exponential increases in processing power for certain types of problems. Our journey will take us through the understanding of these core principles, setting the stage for how quantum computing opens new possibilities beyond the reach of traditional computers.\n",
    "\n",
    "A key focus of this notebook will be on Deutsch's algorithm. This algorithm is not only historically significant as one of the first to demonstrate quantum computing's potential advantages over classical computing but also serves as a fundamental building block in the broader landscape of quantum algorithms. We will explore its mechanics, implications, and implementation in a quantum computing framework."
   ]
  },
  {
   "cell_type": "markdown",
   "metadata": {},
   "source": [
    "<a id=\"clcomp\"></a>\n",
    "### **Classical Computation**\n",
    "Classical Computation or Binary Computation (as it is more commonly referred to) is the traditional approach to computing. This form of computation uses binary bits (0's and 1's) to represent and process data. Classical Computing also use logic gates/circuits which can then manipulate the binary bits we just discussed to perform various calculations and execute algorithms.\n",
    "\n",
    "#### **Key Features of Classical Computing**\n",
    "1. **Binary Representation:** As mentioned previously, Classical Computation uses binary bits to represent and process information. Each bit can only be either in a 0(off) or 1(on) state.\n",
    "2. **Deterministic Calculations:** Classical Computation is deterministic meaning that given the same input for an algorithm to process will always result in the same output being produced.\n",
    "3. **Logic Gates/Circuits:** The use of logic gates and circuits to perform logical operations on binary data are essential in Classical Computation as they are used to manipulate and process the data being stored by the binary bits.\n",
    "4. **Sequential Processing:** Data processing and operation executions are carried out sequentially one after the other in Classical Computing. (Linear Processing).\n",
    "\n",
    "[*[1.0]*](#cc)"
   ]
  },
  {
   "cell_type": "markdown",
   "metadata": {},
   "source": [
    "#### *Example of a Classical Computing Circuit/Gate*\n",
    "\n",
    "The following is an example of a Classical Computing circuit, an ***AND Gate***. The AND gate takes in two bits (0 or 1) and gives an output of 1(on) if both the two inputs are 1, it gives 0(off) otherwise."
   ]
  },
  {
   "cell_type": "code",
   "execution_count": 19,
   "metadata": {},
   "outputs": [
    {
     "name": "stdout",
     "output_type": "stream",
     "text": [
      "True\n",
      "+---------------+----------------+\n",
      " | AND Truth Table | Result |\n",
      " A = False, B = False | A AND B = False  | \n",
      " A = False, B = True  | A AND B = False  | \n",
      " A = True, B = False  | A AND B = False  | \n",
      " A = True, B = True   | A AND B = True  | \n"
     ]
    }
   ],
   "source": [
    "# Working of AND gate\n",
    "\n",
    "def AND(a, b):\n",
    "    if a == 1 and b == 1:\n",
    "        return True\n",
    "    else:\n",
    "        return False\n",
    "\n",
    "if __name__ == '__main__':\n",
    "    print(AND(1, 1))\n",
    " \n",
    "    print(\"+---------------+----------------+\")\n",
    "    print(\" | AND Truth Table | Result |\")\n",
    "    print(\" A = False, B = False | A AND B =\",AND(False,False),\" | \")\n",
    "    print(\" A = False, B = True  | A AND B =\",AND(False,True),\" | \")\n",
    "    print(\" A = True, B = False  | A AND B =\",AND(True,False),\" | \")\n",
    "    print(\" A = True, B = True   | A AND B =\",AND(True,True),\" | \")"
   ]
  },
  {
   "cell_type": "markdown",
   "metadata": {},
   "source": [
    "<a id=\"quantum-computation\"></a>\n",
    "### **Quantum Computation**\n",
    "\n",
    "Quantum Computation uses 'qubits' (quantum bits are show as either ∣0⟩ or  ∣1⟩ ) as the basic unit of information to represent and process data. Quantum Computers use particles (such as electrons or photons) that are then given a charge or polarization to represent a state. Unlike Classical Computation, a qubits state can either be 0 or 1 (like Classical Computation) or both a 0 and 1 at the same time. This is possible through the Quantum Mechanical Phenomena of Superposition and Entanglement. \n",
    "\n",
    "<a id=\"qkf\"></a>\n",
    "#### **Key Features of Quantum Computing**\n",
    "1. **Superposition:** Superposition in Quantum Computing means that a qubit can represent both 0 and 1 simultaneously until it has been measured. The notation ∣0⟩ and ∣1⟩ is know as ket notation and it is a standard way to represent quantum states.\n",
    "2. **Entanglement:** Entanglement refers to when a qubit is connected to another qubit in such a way that the state of one directly affects the state of the other.\n",
    "3. **Qubit Representation:** Unlike normal bits in Classical Computation, qubits can hold a value or state of both 0 and 1 until they are assigned otherwise. (As we now know this is called Superposition). \n",
    "4. **Quantum Gates/Two Mode Logic Gate:** Logical operations are performed on qubits through the use of 'Quantum Logic Gates'or 'Two-Mode Logic Gates' being an XOR and a mode called QO1. These gates allow the qubits to change their superpositions and give fascinating results.\n",
    "5. **Non-Deterministic Calculations:** Unlike Classical Computation where the same input will always result in the same output, Quantum Computation calculations are probabilistic. This means there are multiple outputs to the same input.\n",
    "6. **Parallel Processing:** Operations on a Quantum machine can take place all at the same time. There is no order to execution meaning Quantum Computation can run all operations at the same time. (Parallel Processing).\n",
    "7. **Quantum Interference:** Quantum interference is when subatomic particles interact with and influence themselves and other particles while in a probabilistic superposition state. It can influence the probability of the outcomes when the quantum state is measured.\n",
    "\n",
    "[*[1.1]*](#qc) "
   ]
  },
  {
   "cell_type": "markdown",
   "metadata": {},
   "source": [
    "#### *Example of a Quantum Circuit/Gate*\n",
    "\n",
    "In this code, we set up a quantum circuit with three qubits. The first two qubits are initialized to the ∣1⟩ state using X gates, representing the inputs to the AND operation. The Toffoli gate [*[1.2]*](#toffoli) then performs an operation equivalent to the AND gate (shown previously) on these qubits and writes the result to the third qubit. The measurement will show the third qubit in the ∣1⟩ state, demonstrating the AND operation."
   ]
  },
  {
   "cell_type": "code",
   "execution_count": 20,
   "metadata": {},
   "outputs": [
    {
     "name": "stdout",
     "output_type": "stream",
     "text": [
      "        ┌───┐      ░ ┌─┐      \n",
      "   q_0: ┤ X ├──■───░─┤M├──────\n",
      "        ├───┤  │   ░ └╥┘┌─┐   \n",
      "   q_1: ┤ X ├──■───░──╫─┤M├───\n",
      "        └───┘┌─┴─┐ ░  ║ └╥┘┌─┐\n",
      "   q_2: ─────┤ X ├─░──╫──╫─┤M├\n",
      "             └───┘ ░  ║  ║ └╥┘\n",
      "meas: 3/══════════════╩══╩══╩═\n",
      "                      0  1  2 \n"
     ]
    },
    {
     "data": {
      "image/png": "[encoded data removed]",
      "text/plain": [
       "<Figure size 700x500 with 1 Axes>"
      ]
     },
     "execution_count": 20,
     "metadata": {},
     "output_type": "execute_result"
    }
   ],
   "source": [
    "from qiskit import QuantumCircuit, Aer, execute\n",
    "from qiskit.visualization import plot_histogram\n",
    "\n",
    "# Create a quantum circuit with 3 qubits\n",
    "qc = QuantumCircuit(3)\n",
    "\n",
    "# Initialize the first two qubits (control qubits) to |1>\n",
    "qc.x(0)  # Applying X gate to qubit 0\n",
    "qc.x(1)  # Applying X gate to qubit 1\n",
    "\n",
    "# Add a Toffoli gate\n",
    "qc.ccx(0, 1, 2)  # The third qubit (qubit 2) is the target qubit\n",
    "\n",
    "# Add measurements to see the final state\n",
    "qc.measure_all()\n",
    "\n",
    "# Visualize the circuit\n",
    "print(qc.draw(output='text'))\n",
    "\n",
    "# Execute the circuit on a simulator\n",
    "simulator = Aer.get_backend('qasm_simulator')\n",
    "result = execute(qc, backend=simulator, shots=1024).result()\n",
    "\n",
    "# Get and visualize the results\n",
    "counts = result.get_counts(qc)\n",
    "plot_histogram(counts)"
   ]
  },
  {
   "cell_type": "markdown",
   "metadata": {},
   "source": [
    "Remember, while the Toffoli gate can mimic the AND operation in this specific setup, it is fundamentally different due to its quantum nature and the principles of superposition and entanglement it operates under as explained above.\n",
    "\n",
    "For further information on this look at [*[Quantum Computing with Oracles]*](#quantum-computing-with-oracles) section of this jupyter notebook."
   ]
  },
  {
   "cell_type": "markdown",
   "metadata": {},
   "source": [
    "<a id=\"importance-of-quantum-algorithms\"></a>\n",
    "## **Importance of Quantum Algorithms**\n",
    "Quantum algorithms are specialized procedures tailored for quantum computers, utilizing the unique principles of quantum mechanics to conduct computations. These algorithms have the potential to outperform classical algorithms significantly in solving certain types of problems.\n",
    "\n",
    "One of the most groundbreaking examples is Shor's algorithm, developed by Peter W. Shor in 1994. This quantum algorithm revolutionized the field by demonstrating that it could factorize large numbers exponentially faster than the most efficient classical algorithms. This has profound implications, especially in the realm of cryptography, as it poses a threat to widely used encryption systems like RSA, which rely on the difficulty of factoring large numbers.\n",
    "\n",
    "Another notable quantum algorithm is Grover's algorithm, proposed by Lov Grover in 1996. It offers a quadratic speedup for searching unsorted databases compared to the best possible classical algorithms. In practical terms, this means that a quantum computer using Grover's algorithm can find an item in a large database much faster than any classical computer.\n",
    "\n",
    "For more information on a wider range of quantum algorithms, the Quantum Algorithm Zoo [*[1.3]*](#qaz) provides a comprehensive catalog."
   ]
  },
  {
   "cell_type": "markdown",
   "metadata": {},
   "source": [
    "<a id=\"overview-of-deutschs-algorithm\"></a>\n",
    "## **Overview of Deutsch's Algorithm**\n",
    "For the purposes of this Jupyter Notebook however we are only interested in one such algorithm, The [*[Deutsch's Algorithm]*](#da). [*[1.4]*](#deutschs-algo)\n",
    "\n",
    "Developed by David Deutsch in 1985, Deutsch's algorithm holds a special place in the history of quantum computing. It was the first quantum algorithm that demonstrated a clear advantage over classical computing methods. Deutsch's algorithm efficiently solves a specific type of problem known as the \"black box problem.\" It determines whether a given function is constant (yielding the same output for all inputs) or balanced (producing 0 for half the inputs and 1 for the other half) by evaluating the function just once. In contrast, any classical algorithm would need to evaluate the function at least twice to determine the same results.\n",
    "\n",
    "This algorithm not only showcased the potential of quantum computing to solve problems more efficiently than classical computing methods but also laid the groundwork for future developments in the field of Quantum Computing.\n",
    "\n",
    "Before we can discuss the Deutsch's Algorithm and the Deutsch's problem, we first need to discuss Quantum Oracles and Black Boxes to better understand quantum computing and the Deutsch's Algorithm."
   ]
  },
  {
   "cell_type": "markdown",
   "metadata": {},
   "source": [
    "<a id=\"quantum-oracles\"></a>\n",
    "## **Quantum Oracles**\n",
    "\n",
    "In the realm of quantum computing, an oracle is a fundamental concept that plays a pivotal role in many quantum algorithms. Think of a quantum oracle as a special kind of **'black box'** in your quantum circuit. You can input a quantum state into this box, and it performs a specific function on this state. However, the internal workings of this function are not visible to you.\n",
    "\n",
    "The beauty of a quantum oracle is that it allows us to embed complex problems into quantum circuits, letting the quantum computer work with these problems in ways that are not possible in classical computing.\n",
    "\n",
    "Quantum oracles are particularly significant in the study of algorithmic complexity and quantum computing (specifically the advantages quantum computing possess). They are used in many famous quantum algorithms, such as the Deutsch's algorithm, to illustrate how certain problems can be solved more efficiently on a quantum computer than on a classical computer.\n",
    "\n",
    "<a id=\"quantum-oracle-ex\"></a>\n",
    "#### **Quantum Oracle Example**\n",
    "\n",
    "Take the function f:{0,1} -> {0,1} which simply maps a single bit to another single bit. This is the same function that the Deutsch's algortithm revolves around. More on that later [*[Deutsch's Algorithm]*](#da) \n",
    "\n",
    "In a quantum circuit we can use this function as an oracle. Let's take a simple example where the function flips the input bit (a NOT operation). In quantum terms, this can be implemented using the Pauli-X gate. [*[1.5]*](#pauli-x)"
   ]
  },
  {
   "cell_type": "code",
   "execution_count": 21,
   "metadata": {},
   "outputs": [
    {
     "data": {
      "text/html": [
       "<pre style=\"word-wrap: normal;white-space: pre;background: #fff0;line-height: 1.1;font-family: &quot;Courier New&quot;,Courier,monospace\">   ┌───┐\n",
       "q: ┤ X ├\n",
       "   └───┘</pre>"
      ],
      "text/plain": [
       "   ┌───┐\n",
       "q: ┤ X ├\n",
       "   └───┘"
      ]
     },
     "execution_count": 21,
     "metadata": {},
     "output_type": "execute_result"
    }
   ],
   "source": [
    "from qiskit import QuantumCircuit\n",
    "\n",
    "# Create a quantum circuit with 1 qubit\n",
    "qc = QuantumCircuit(1)\n",
    "\n",
    "# Add a Pauli-X gate as an oracle\n",
    "qc.x(0)\n",
    "\n",
    "# Visualize the circuit\n",
    "qc.draw(output='text')"
   ]
  },
  {
   "cell_type": "markdown",
   "metadata": {},
   "source": [
    "In the provided quantum example, I used a Pauli-X gate in a quantum circuit as an oracle to perform a NOT operation on a single qubit. \n",
    "\n",
    "In the example above I have used a Pauli-X gate in a quantum circuit as an oracle to perform a NOT operation on a single qubit. \n",
    "\n",
    "To compare this with classical computing and understand why quantum oracles in algorithms can offer advantages in computing, let's first consider how the equivalent operation would be done in a classical context and then explore the unique benefits of quantum oracles."
   ]
  },
  {
   "cell_type": "code",
   "execution_count": 22,
   "metadata": {},
   "outputs": [
    {
     "name": "stdout",
     "output_type": "stream",
     "text": [
      "     ┌───┐┌───┐┌───┐┌─┐\n",
      "  q: ┤ H ├┤ X ├┤ H ├┤M├\n",
      "     └───┘└───┘└───┘└╥┘\n",
      "c: 1/════════════════╩═\n",
      "                     0 \n"
     ]
    },
    {
     "data": {
      "image/png": "[encoded data removed]",
      "text/plain": [
       "<Figure size 700x500 with 1 Axes>"
      ]
     },
     "execution_count": 22,
     "metadata": {},
     "output_type": "execute_result"
    }
   ],
   "source": [
    "from qiskit import QuantumCircuit, Aer, execute\n",
    "from qiskit.visualization import plot_histogram\n",
    "\n",
    "# Create a quantum circuit with 1 qubit and 1 classical bit\n",
    "qc = QuantumCircuit(1, 1)\n",
    "\n",
    "# Apply a Hadamard gate\n",
    "qc.h(0)\n",
    "\n",
    "# Insert the oracle (Pauli-X gate)\n",
    "qc.x(0)\n",
    "\n",
    "# Apply another Hadamard gate\n",
    "qc.h(0)\n",
    "\n",
    "# Measure the qubit\n",
    "qc.measure(0, 0)\n",
    "\n",
    "# Draw the circuit\n",
    "print(qc.draw(output='text'))\n",
    "\n",
    "# Execute the circuit\n",
    "simulator = Aer.get_backend('qasm_simulator')\n",
    "result = execute(qc, backend=simulator, shots=1024).result()\n",
    "\n",
    "# Get the result\n",
    "counts = result.get_counts(qc)\n",
    "plot_histogram(counts)"
   ]
  },
  {
   "cell_type": "markdown",
   "metadata": {},
   "source": [
    "In the above example, we apply a Hadamard gate before and after the oracle. This setup is a typical way to observe how the oracle (in this case, the X gate) affects the state of a qubit. The measurement results will show how the oracle alters the superposition created by the Hadamard gates."
   ]
  },
  {
   "cell_type": "markdown",
   "metadata": {},
   "source": [
    "<a id=\"classical-ex\"></a>\n",
    "#### **Classical Computing Example**\n",
    "\n",
    "In classical computing, a NOT operation is straightforward. Given a bit (0 or 1), the NOT operation simply flips its state: \n",
    "0 becomes 1, and 1 becomes 0. This can be done using a simple logic gate in a digital circuit. However, classical bits can only exist in one of these two states at any given time."
   ]
  },
  {
   "cell_type": "code",
   "execution_count": 23,
   "metadata": {},
   "outputs": [
    {
     "name": "stdout",
     "output_type": "stream",
     "text": [
      "True\n",
      "+---------------+----------------+\n",
      " | NOT Truth Table | Result |\n",
      " A = False | A NOT = True  | \n",
      " A = True, | A NOT = False  | \n"
     ]
    }
   ],
   "source": [
    "# working of Not gate\n",
    " \n",
    "def NOT(a):\n",
    "    return not a\n",
    "# Driver code\n",
    "if __name__=='__main__':\n",
    "    print(NOT(0))\n",
    " \n",
    "    print(\"+---------------+----------------+\")\n",
    "    print(\" | NOT Truth Table | Result |\")\n",
    "    print(\" A = False | A NOT =\",NOT(False),\" | \")\n",
    "    print(\" A = True, | A NOT =\",NOT(True),\" | \")"
   ]
  },
  {
   "cell_type": "markdown",
   "metadata": {},
   "source": [
    "<a id=\"quantum-w-oracles\"></a>\n",
    "## **Quantum Computing with Oracles**\n",
    "\n",
    "We have now seen both a classical algorithmic operation and a quantum algorithmic operation in the example of NOT gates. \n",
    "\n",
    "The quantum oracle above, using the Pauli-X gate, performs a similar operation to that of the NOT gate for a classical computational operation, but does so on a qubit.\n",
    "\n",
    "The critical difference is that a qubit can exist in a state of superposition [*[Key Features of Quantum Computing]*](#qkf)\n",
    "\n",
    "To fully understand the advantages of quantum computing and importance of quantum oracles in algorithms allow me to go into more detail on some of the previous key features I mentioned:\n",
    "\n",
    "<a id=\"qofeatures\"></a>\n",
    "#### **Key Features of Quantum Computing with Oracles**\n",
    "1. **Superposition and Parallelism:** In a superposition state, a qubit can perform computations on multiple states (0 and 1) at the same time. When scaled up to multiple qubits, this allows quantum computers to perform a vast number of parallel computations with fewer operations compared to classical computers.\n",
    "2. **Entanglement:** When qubits become entangled through quantum gates, the state of one qubit is directly related to the state of another. This creates correlations that can be exploited for more efficient problem-solving strategies than what's possible in classical computing.\n",
    "3. **Quantum Interference:** Quantum algorithms use interference to amplify the probabilities of correct outcomes and diminish the probabilities of incorrect ones. This is not something that classical computing algorithms or processes are able to do.\n",
    "\n",
    "Quantum oracles, by harnessing the quantum properties mentioned above, offer a unique approach to information processing that can be more efficient than classical methods, particularly for certain types of problems. Deutsch's algorithm serves as a prime example of this advantage as we will see later. [*[Deutsch's Algorithm]*](#da)\n",
    "\n",
    "While a quantum oracle performing a NOT operation (like the Pauli-X gate) might seem similar to a classical NOT operation at first, the ability of quantum systems to utilize superposition, entanglement, and interference enables a fundamentally different and more powerful approach to computation."
   ]
  },
  {
   "cell_type": "markdown",
   "metadata": {},
   "source": [
    "<a id=\"The Black Box\"></a>\n",
    "## **The Black Box**\n",
    "\n",
    "Now that we understand Oracles we can discuss Black Boxes and more importantly, the Black Box problem. \n",
    "\n",
    "As I mentioned previously the internal workings of a function are not known to a user in quantum computing. Only the inputs and the outputs are visible. This concept in quantum computing is referred to as the Black Box for that very reason.\n",
    "\n",
    "<a id=\"KeyFeaturesofaBlackBox\"></a>\n",
    "#### **Key Features of a Black Box**\n",
    "\n",
    "1. **Encapsulation of a Function:** The black box encapsulates a specific function. In the case of quantum computing, this function typically involves operations on qubits.\n",
    "2. **Unknown Mechanism:** The logic of how the function processes the inputs to generate the outputs is hidden.\n",
    "3. **Use in Quantum Algorithms:** Quantum black boxes (oracles) are used in various quantum algorithms. For example, in Deutsch's algorithm, the oracle holds a function that is either constant (the same output for all inputs) or balanced (outputs 0 for half the inputs and 1 for the other half), and the algorithm's goal is to determine which type the function is. More on this here [*[Deutsch's Algorithm]*](#da)\n",
    "4. **Interaction through Inputs and Outputs:** You interact with the black box solely by providing inputs and observing outputs. In quantum algorithms, these inputs and outputs are states of qubits.\n",
    "\n",
    "Quantum black boxes or oracles are important because they offer a way to compare the efficiency of quantum and classical computational processes. They help in demonstrating quantum advantages where a quantum algorithm can solve a problem more efficiently than any classical algorithm. For instance, quantum algorithms like [*[Deutsch's Algorithm]*](#da) use oracles to achieve tasks faster than classical algorithms, showcasing the potential power of quantum computing.\n",
    "\n",
    "In summary, in quantum computing, a black box is an abstract concept used primarily in algorithm design to represent a function whose internal workings are hidden. This concept is pivotal in illustrating the unique capabilities and advantages of quantum algorithms over classical computing approaches.\n",
    "\n",
    "<a id=\"BlackBoxvsOracles\"></a>\n",
    "#### **Black Box vs Oracles**\n",
    "\n",
    "To put it simply, All Oracles are a type of Black Box but not all Black Boxes are Oracles. [*[1.8]*](#guideqoracles)\n",
    "\n",
    "In quantum computing, a black box generally refers to any function whose internal workings are unknown or hidden from the user (as mentioned previously). An oracle on the other hand is a specific type of black box used in quantum algorithms. It's a well defined unitary operation that performs a certain function on qubits, but its internal mechanism is not accessible or visible to the user. \n",
    "\n"
   ]
  },
  {
   "cell_type": "markdown",
   "metadata": {},
   "source": [
    "<a id=\"TheBlackBoxProblem\"></a>\n",
    "## **The Black Box Problem** \n",
    "\n",
    "Knowing what we know about oracles and black boxes, we can now discuss the black box problem.\n",
    "\n",
    "A black box problem is one where the internal mechanism or the logic of the problem is unknown or hidden. The only information available to an algorithm trying to solve this problem is based on input-output relationships. You can think of it as a mysterious box where you can input certain values and observe the output, but you have no knowledge of what happens inside the box that leads to these outputs.\n",
    "\n",
    "This type of problem is a standard way to represent various challenges in both classical and quantum algorithm theory. It offers an abstract yet powerful way to explore and analyze the capabilities and limitations of different computational models.\n",
    "\n",
    "<a id=\"BlackBoxRelevance\"></a>\n",
    "#### **Black Box Relevance**\n",
    "\n",
    "The black box model takes on a new dimension in quantum computing, which approaches problem solving in a different way than classical computing.\n",
    "\n",
    "- **Quantum Superposition and Parallelism:** Quantum computing can use superposition. As we know this is where a qubit can exist in multiple states simultaneously. This allows a quantum algorithm to process a range of input possibilities at once, rather than one at a time as in classical computing. In the context of a black box problem, this means a quantum computer can evaluate the black box for multiple inputs at the same time.\n",
    "\n",
    "- **Quantum Oracles:** In quantum algorithms, a black box is often represented as a quantum oracle (as we know from earlier). This oracle encodes the problem's unknown function and is designed to work with qubits in superposition. When used in an algorithm, such as [*[Deutsch's Algorithm]*](#da), the quantum oracle can provide insights into the function's properties with fewer evaluations than would be required in classical computing.\n",
    "\n",
    "- **Efficiency in Problem Solving:** Quantum algorithms, using these principles, can sometimes solve black box problems more efficiently than classical algorithms. [*[Deutsch's Algorithm]*](#da) is a primary example where a quantum approach determines the nature of the black box function (whether it's constant or balanced) with a single evaluation, something impossible in a classical context.\n",
    "\n",
    "While classical computers deal with black box problems in a sequential and liner order, quantum computers tackle these problems with an integrated approach, utilizing superposition and quantum interference. This difference highlights the potential for quantum computing to solve problems more efficiently than classical computational methods.\n"
   ]
  },
  {
   "cell_type": "markdown",
   "metadata": {},
   "source": [
    "<a id=\"da\"></a>\n",
    "## **The Deutsch's Algorithm**\n",
    "\n",
    "Deutsch's algorithm addresses a fundamental problem in quantum computing, often referred to as the Deutsch problem. [*[1.7]*](#introqc)\n",
    "\n",
    "This problem revolves around a specific type of function: f:{0,1} -> {0,1} \n",
    "\n",
    "The function takes a single bit as input and returns a single bit as output. However, the function's operation is hidden within a quantum oracle, a black box, that performs an operation without revealing its inner workings. The objective is to determine the nature of this function. As we know from earlier this is to determine whether the given function is constant or balanced.\n",
    "\n",
    "- **Constant:** The function returns the same output (either 0 or 1) for both inputs (0 and 1).\n",
    "- **Balanced:** The function returns opposite outputs for inputs 0 and 1.\n",
    "\n",
    "<a id=\"caqa\"></a>\n",
    "#### **Classical Approach vs Quantum Approach**\n",
    "\n",
    "As we now know, in classical computation, determining the outcome of this function would require two queries, one for each input. However with Deutsch's Algorithm and the use of quantum computing, the function can be solved with a single query. \n",
    "\n",
    "<a id=\"dao\">\n",
    "## **Deutsch's Algorithm Overview**\n",
    "\n",
    "The Desutsch's algorithm uses unique quantum mechanical features, the same features mentioned in previously (superposition, entanglement and interference). In conjunction with these features the Deutsch's algorithm uses a quantum oracle in order to be able to execute the function in a single query. The step the Deutsch's algorithm takes to do this is as follows: \n",
    "\n",
    "1. **Initialization:** Two qubits are prepared, the first in state ∣0⟩ and the second in state ∣1⟩.\n",
    "2. **Superposition:** A Hadamard gate is applied to both qubits, creating a superposition of states.\n",
    "3. **Oracle Application:** The quantum oracle encoding the function f is applied to the qubits.\n",
    "4. **Interference:** Another Hadamard gate is applied to the first qubit, generating quantum interference.\n",
    "5. **Measurement:** The first qubit is measured. A result of 0 indicates that f is constant, while 1 indicates that f is balanced."
   ]
  },
  {
   "cell_type": "markdown",
   "metadata": {},
   "source": [
    "<a id=\"das\"></a>\n",
    "## **Deutsch's Algorithm Simulation**\n",
    "\n",
    "The following code cells are used to create and simulate the Desutsch's Algorithm using Qiskit. The code is structured so that users can easily choose between a constant or balanced oracle. Each part of the code is accompanied by comments and explanations to clarify the process."
   ]
  },
  {
   "cell_type": "markdown",
   "metadata": {},
   "source": [
    "<a id=\"daiq\"></a>\n",
    "#### **Deutsch's Algorithm in Qiskit\n",
    "\n",
    "Two functions, balanced_oracle and constant_oracle, are defined. The balanced_oracle applies a CNOT gate (Controlled-NOT), creating a scenario where the output changes based on the input. \n",
    "\n",
    "The constant_oracle performs no operation, representing a function that always outputs the same value."
   ]
  },
  {
   "cell_type": "code",
   "execution_count": 24,
   "metadata": {},
   "outputs": [],
   "source": [
    "from qiskit import QuantumCircuit, Aer, execute\n",
    "from qiskit.visualization import plot_histogram\n",
    "\n",
    "def balanced_oracle(qc):\n",
    "    \"\"\"Create a balanced oracle. Here, we use a CNOT gate.\"\"\"\n",
    "    qc.cx(0, 1)\n",
    "    return qc\n",
    "\n",
    "def constant_oracle(qc):\n",
    "    \"\"\"Create a constant oracle. This oracle does nothing (identity).\"\"\"\n",
    "    return qc"
   ]
  },
  {
   "cell_type": "markdown",
   "metadata": {},
   "source": [
    "The function deutsch_algorithm sets up the quantum circuit for the algorithm. It initializes two qubits, applies Hadamard gates to create superposition states, inserts the chosen oracle (either constant or balanced), applies another Hadamard gate to the first qubit, and finally measures this qubit.\n",
    "\n",
    "- **Quantum Circuit:** This line creates a new quantum circuit with two qubits and one classical bit. The two qubits will be used for the algorithm, and the classical bit is for measurement.\n",
    "- **Hadamard Gate:** The Hadamard (h) gate is a fundamental quantum gate that creates a superposition state from a basis state. When applied to a qubit initially in the ∣0⟩ state, it transforms it into an equal superposition of ∣0⟩ and ∣1⟩, meaning the qubit is in both states simultaneously.\n",
    "    - Applying it to the first qubit here is crucial for setting up the superposition necessary for the quantum parallelism exploited in Deutsch's algorithm.\n",
    "\n",
    "- **Pauli-X Gate:** qc.x(1) applies the Pauli-X (or NOT) gate to the second qubit. This gate flips the qubit from the ∣0⟩ state to the ∣1⟩ state.\n",
    "- **Hadamard Gate Again:** qc.h(1) then applies the Hadamard gate to this second qubit. After these two operations, the second qubit is transformed from ∣0⟩ to a superposition that is a negative phase version of the first qubit, often referred to as ∣−⟩.\n",
    "    - This preparation is important for the working of the Deutsch's algorithm, as it sets the stage for the quantum interference needed later."
   ]
  },
  {
   "cell_type": "code",
   "execution_count": 25,
   "metadata": {},
   "outputs": [],
   "source": [
    "def deutsch_algorithm(oracle_type='balanced'):\n",
    "    \"\"\"Implement Deutsch's algorithm with the chosen oracle type.\"\"\"\n",
    "    qc = QuantumCircuit(2, 1)\n",
    "    qc.h(0)\n",
    "    qc.x(1)\n",
    "    qc.h(1)\n",
    "    \n",
    "    if oracle_type == 'balanced':\n",
    "        qc = balanced_oracle(qc)\n",
    "    else:\n",
    "        qc = constant_oracle(qc)\n",
    "    \n",
    "    qc.h(0)\n",
    "    qc.measure(0, 0)\n",
    "    \n",
    "    return qc"
   ]
  },
  {
   "cell_type": "markdown",
   "metadata": {},
   "source": []
  },
  {
   "cell_type": "code",
   "execution_count": 26,
   "metadata": {},
   "outputs": [],
   "source": [
    "# Choose the type of oracle: 'balanced' or 'constant'\n",
    "oracle_type = 'balanced'  # Change to 'constant' to use the constant oracle"
   ]
  },
  {
   "cell_type": "code",
   "execution_count": 27,
   "metadata": {},
   "outputs": [
    {
     "data": {
      "image/png": "[encoded data removed]",
      "text/plain": [
       "<Figure size 700x500 with 1 Axes>"
      ]
     },
     "execution_count": 27,
     "metadata": {},
     "output_type": "execute_result"
    }
   ],
   "source": [
    "qc = deutsch_algorithm(oracle_type)\n",
    "simulator = Aer.get_backend('qasm_simulator')\n",
    "result = execute(qc, backend=simulator, shots=1024).result()\n",
    "counts = result.get_counts(qc)\n",
    "plot_histogram(counts)"
   ]
  },
  {
   "cell_type": "markdown",
   "metadata": {},
   "source": [
    "<a id=\"refcc\"></a>\n",
    "## **References**\n",
    "\n",
    "<a id=\"cc\"></a>\n",
    "*[11.0]*  - TechTarget Contributor. \"Classical Computing\". TechTarget, November 2018. \n",
    "\n",
    "https://www.techtarget.com/whatis/definition/classical-computing#:~:text=Classical%20computing%20is%20another%20name,or%20a%201%20(on)\n",
    "\n",
    "---\n",
    "\n",
    "<a id=\"qc\"></a>\n",
    "*[1.1]*  - Gillis, Alexander S. \"Quantum Computing\". TechTarget, January 2023. \n",
    "\n",
    "https://www.techtarget.com/whatis/definition/quantum-computing\n",
    "\n",
    "---\n",
    "\n",
    "<a id=\"toffoli\"></a>\n",
    "*[1.2]* - S.G. Roy, A. Chakrabarti. \"Quantum Inspired Computational Intelligence\". Science Direct, 2017 \n",
    "\n",
    "https://pennylane.ai/qml/glossary/what-is-a-toffoli-gate/\n",
    "\n",
    "---\n",
    "\n",
    "<a id=\"qaz\"></a>\n",
    "*[1.3]* - Jordan, Stephen.  \"Algebraic and Number Theoretic Algorithms\". Quantum Algorithm Zoo, June 2022\n",
    "\n",
    "https://quantumalgorithmzoo.org/\n",
    "\n",
    "---\n",
    "\n",
    "<a id=\"deutschs-algo\"></a>\n",
    "*[1.4]* - Gharibian, Sevag. \"Lecture 6: Deutsch's Algorithm\". Introduction to Quantum Computation, Virginia Commonwealth University, 2015.\n",
    "\n",
    "https://people.vcu.edu/~sgharibian/courses/CMSC491/notes/Lecture%206%20-%20Deutsch's%20algorithm.pdf\n",
    "\n",
    "---\n",
    "\n",
    "<a id=\"pauli-x\"></a>\n",
    "*[1.5]* - IBM Quantum Learning. \"Explore gates and circuits with the Quantum Composer\". \n",
    "\n",
    "https://learning.quantum.ibm.com/tutorial/explore-gates-and-circuits-with-the-quantum-composer\n",
    "\n",
    "---\n",
    "\n",
    "<a id=\"qcqi\"></a>\n",
    "*[1.6]* - Nielsen, Michael A; Chuang Isaac L. \"Quantum Computation and Quantum Information\", Cambridge University Press, 2010\n",
    "\n",
    "https://profmcruz.files.wordpress.com/2017/08/quantum-computation-and-quantum-information-nielsen-chuang.pdf\n",
    "\n",
    "---\n",
    "\n",
    "<a id=\"introqc\"></a>\n",
    "*[1.7]* - Kaye, Philip; Laflamme, Raymond; Mosca, Michele; \"An introduction to Quantum Computing\", Oxford University Press, 2007\n",
    "\n",
    "http://ursula.chem.yale.edu/~batista/classes/v572/Mosca.pdf\n",
    "\n",
    "---\n",
    "\n",
    "<a id=\"guideqoracles\"></a>\n",
    "*[1.8]* - Javier Sanchez-Rivero, Daniel Talaván, Jose Garcia-Alonso, Antonio Ruiz-Cortés, Juan Manuel Murillo; \"Some Initial Guidelines for Building Reusable Quantum\", March 2023\n",
    "\n",
    "https://arxiv.org/pdf/2303.14959.pdf#:~:text=An%20oracle%20can%20be%20thought,the%20algorithm%20that%20uses%20it.\n",
    "\n",
    "---\n",
    "\n"
   ]
  },
  {
   "cell_type": "markdown",
   "metadata": {},
   "source": []
  }
 ],
 "metadata": {
  "kernelspec": {
   "display_name": "Python 3",
   "language": "python",
   "name": "python3"
  },
  "language_info": {
   "codemirror_mode": {
    "name": "ipython",
    "version": 3
   },
   "file_extension": ".py",
   "mimetype": "text/x-python",
   "name": "python",
   "nbconvert_exporter": "python",
   "pygments_lexer": "ipython3",
   "version": "3.10.4"
  }
 },
 "nbformat": 4,
 "nbformat_minor": 2
}
