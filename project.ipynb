{
 "cells": [
  {
   "cell_type": "markdown",
   "metadata": {},
   "source": [
    "# **Quantum Computing and The Deutsch’s Algorithm**\n",
    "### Emerging Technologies\n",
    "---\n",
    "\n",
    "##### Ryan Harte (G00338424)\n",
    "---"
   ]
  },
  {
   "cell_type": "markdown",
   "metadata": {},
   "source": [
    "## **Table of Contents**\n",
    "\n",
    "1. [Introduction](#intro)  \n",
    "   - [Classical Computing vs Quantum Computing](#ccvqc)\n",
    "\n",
    "2. [References](#refcc)\n",
    "\n",
    "\n",
    "\n"
   ]
  },
  {
   "cell_type": "markdown",
   "metadata": {},
   "source": [
    "<a id=\"intro\"></a>\n",
    "## **Introduction**\n",
    "\n",
    "What is The Deutsch's Algorithm? Well to understand that we must ask ourselves another question first. What is Quantum Computing? Over the course of this project I will be discussing and explaining the fundamental concepts of Quantum Computing that we must know in order to discuss and understand the Deutsch's Algorithm."
   ]
  },
  {
   "cell_type": "markdown",
   "metadata": {},
   "source": [
    "<a id=\"ccvqc\"></a>\n",
    "### **Classical Computing vs Quantum Computing**\n",
    "\n",
    "#### **Classical Computation**\n",
    "Classical Computation or Binary Computation (as it is more commonly referred to) is the traditional approach to computing. This form of computation uses binary bits (0's and 1's) to represent and process data. Classical Computing also use logic gates/circuits which can then manipulate the binary bits we just discussed to perform various calculations and execute algorithms.\n",
    "\n",
    "#### **Key Features of Classical Computing**\n",
    "1. **Binary Representation:** As mentioned previously, Classical Computation uses binary bits to represent and process information. Each bit can only be either in a 0(off) or 1(on) state.\n",
    "2. **Deterministic Calculations:** Classical Computation is deterministic meaning that given the same input for an algorithm to process will always result in the same output being produced.\n",
    "3. **Logic Gates/Circuits:** The use of logic gates and circuits to perform logical operations on binary data are essential in Classical Computation as they are used to manipulate and process the data being stored by the binary bits.\n",
    "4. **Sequential Processing:** Data processing and operation executions are carried out sequentially one after the other in Classical Computing. (Linear Processing).\n",
    "\n",
    "[*[1.0]*](#cc)"
   ]
  },
  {
   "cell_type": "markdown",
   "metadata": {},
   "source": [
    "#### *Example of a Classical Computing Circuit/Gate*\n",
    "\n",
    "The following is an example of a Classical Computing circuit, an ***AND Gate***. The AND gate takes in two bits (0 or 1) and gives an output of 1(on) if both the two inputs are 1, it gives 0(off) otherwise."
   ]
  },
  {
   "cell_type": "code",
   "execution_count": 24,
   "metadata": {},
   "outputs": [
    {
     "name": "stdout",
     "output_type": "stream",
     "text": [
      "True\n",
      "+---------------+----------------+\n",
      " | AND Truth Table | Result |\n",
      " A = False, B = False | A AND B = False  | \n",
      " A = False, B = True | A AND B = True  | \n",
      " A = True, B = False | A AND B = False  | \n",
      " A = True, B = True | A AND B = False  | \n"
     ]
    }
   ],
   "source": [
    "# working of AND gate\n",
    " \n",
    "def AND (a, b):\n",
    " \n",
    "    if a == 0 and b == 1:\n",
    "        return True\n",
    "    else:\n",
    "        return False\n",
    "\n",
    "if __name__=='__main__':\n",
    "    print(AND(0, 1))\n",
    " \n",
    "    print(\"+---------------+----------------+\")\n",
    "    print(\" | AND Truth Table | Result |\")\n",
    "    print(\" A = False, B = False | A AND B =\",AND(False,False),\" | \")\n",
    "    print(\" A = False, B = True | A AND B =\",AND(False,True),\" | \")\n",
    "    print(\" A = True, B = False | A AND B =\",AND(True,False),\" | \")\n",
    "    print(\" A = True, B = True | A AND B =\",AND(True,True),\" | \")"
   ]
  },
  {
   "cell_type": "markdown",
   "metadata": {},
   "source": [
    "#### **Quantum Computation**\n",
    "Quantum Computation uses 'qubits' (quantum bits) as the basic unit of information to represent and process data. Quantum Computers use particles (such as electrons or photons) that are then given a charge or polarization to represent a state. Unlike Classical Computation, a qubits state can either be 0 or 1 (like Classical Computation) or both a 0 and 1 at the same time. This is possible through the Quantum Mechanical Phenomena of Superposition and Entanglement. \n",
    "\n",
    "#### **Key Features of Quantum Computing**\n",
    "1. **Superposition:** Superposition in Quantum Computing means that a qubit can be in multiple states at once. 0 or 1 / 0 and 1 and the same time.\n",
    "2. **Entanglement:** Entanglement refers to when a qubit is connected to another qubit in such a way that the state of one directly affects the state of the other.\n",
    "3. **Qubit Representation:** Unlike normal bits in Classical Computation, qubits can hold a value or state of both 0 and 1 until they are assigned otherwise. (As we now know this is called Superposition).\n",
    "4. **Quantum Gates/Two Mode Logic Gate:** Logical operations are performed on qubits through the use of 'Quantum Logic Gates'or 'Two-Mode Logic Gates' being an XOR and a mode called QO1. These gates allow the qubits to change their superpositions and give fascinating results.\n",
    "5. **Non-Deterministic Calculations:** Unlike Classical Computation where the same input will always result in the same output, Quantum Computation calculations are probabilistic. This means there are multiple outputs to the same input.\n",
    "6. **Parallel Processing:** Operations on a Quantum machine can take place all at the same time. There is no order to execution meaning Quantum Computation can run all operations at the same time. (Parallel Processing).\n",
    "\n",
    "[*[1.1]*](#qc) "
   ]
  },
  {
   "cell_type": "markdown",
   "metadata": {},
   "source": [
    "<a id=\"refcc\"></a>\n",
    "## References\n",
    "\n",
    "<a id=\"cc\"></a>\n",
    "*[1.0]*  - TechTarget Contributor. \"Classical Computing\". TechTarget, November 2018. \n",
    "\n",
    "https://www.techtarget.com/whatis/definition/classical-computing#:~:text=Classical%20computing%20is%20another%20name,or%20a%201%20(on).\n",
    "\n",
    "<a id=\"qc\"></a>\n",
    "*[1.1]*  - Gillis, Alexander S. \"Quantum Computing\". TechTarget, January 2023. \n",
    "\n",
    "https://www.techtarget.com/whatis/definition/quantum-computing"
   ]
  },
  {
   "cell_type": "markdown",
   "metadata": {},
   "source": []
  }
 ],
 "metadata": {
  "kernelspec": {
   "display_name": "Python 3",
   "language": "python",
   "name": "python3"
  },
  "language_info": {
   "codemirror_mode": {
    "name": "ipython",
    "version": 3
   },
   "file_extension": ".py",
   "mimetype": "text/x-python",
   "name": "python",
   "nbconvert_exporter": "python",
   "pygments_lexer": "ipython3",
   "version": "3.10.7"
  }
 },
 "nbformat": 4,
 "nbformat_minor": 2
}
